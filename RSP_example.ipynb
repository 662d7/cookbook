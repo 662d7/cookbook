{
 "cells": [
  {
   "cell_type": "code",
   "execution_count": null,
   "metadata": {},
   "outputs": [],
   "source": [
    "import plotly.graph_objects as go\n",
    "import pandas as pd\n",
    "import time\n",
    "from alpha_vantage.timeseries import TimeSeries\n",
    "import matplotlib.pyplot as plt\n",
    "import matplotlib as mpl\n",
    "import numpy as np\n",
    "import datetime\n",
    "\n",
    "mpl.rcParams[\"figure.figsize\"] = [20, 12]\n",
    "\n",
    "api = \" AZ7M0MIFGKAARVST\"\n",
    "plt.style.use('ggplot')"
   ]
  },
  {
   "cell_type": "code",
   "execution_count": null,
   "metadata": {},
   "outputs": [],
   "source": [
    "symbol = \"^GSPC\"\n",
    "\n",
    "ts = TimeSeries(api, output_format='pandas')\n",
    "sp, meta_data = ts.get_daily_adjusted(symbol, outputsize= 'full')\n",
    "\n",
    "symbol = \"^RUT\"\n",
    "\n",
    "ts = TimeSeries(api, output_format='pandas')\n",
    "r2000, meta_data = ts.get_daily_adjusted(symbol, outputsize= 'full')"
   ]
  },
  {
   "cell_type": "code",
   "execution_count": null,
   "metadata": {},
   "outputs": [],
   "source": [
    "yes = 0\n",
    "no = 0\n",
    "wtf = 0\n",
    "bull = 0\n",
    "bear = 0\n",
    "yes_bull = 0\n",
    "yes_bear = 0\n",
    "no_bull = 0\n",
    "no_bear = 0\n",
    "l = []\n",
    "\n",
    "Monday = datetime.datetime.strptime('2020-04-13', '%Y-%m-%d')\n",
    "Friday = datetime.datetime.strptime('2020-04-17', '%Y-%m-%d')\n",
    "\n",
    "for n_weeks in range(100):\n",
    "    Monday_d = Monday - n_weeks * datetime.timedelta(days=7)\n",
    "    Friday_d = Friday - n_weeks * datetime.timedelta(days=7)\n",
    "    mask = (sp.index >= Friday_d-datetime.timedelta(days=7)) & (sp.index <= Friday_d)\n",
    "    sp_last = sp['5. adjusted close'].iloc[mask]\n",
    "    r2000_last = r2000['5. adjusted close'].iloc[mask]\n",
    "#     sp_last = sp_last/sp['1._d-datetime.timedelta(days=7)) & (sp.index <= Friday_d)\n",
    "    sp_last = sp['5. adjusted close'].iloc[mask]\n",
    "    r2000_last = r2000['5. adjusted close'].iloc[mask]\n",
    "#     sp_last = sp_last/sp['1. open'].iloc[mask][-1]\n",
    "#     r2000_last = r2000_last/r2000['1. open'].iloc[mask][-1]\n",
    "    sp_last = sp_last/sp_last[-1]\n",
    "    r2000_last = r2000_last/r2000_last[-1]\n",
    "#     print(no,yes)\n",
    "#     print(Monday_d,sp['5. adjusted close'].iloc[sp.index <= Friday_d+datetime.timedelta(days=7)][0] - sp['5. adjusted close'].iloc[sp.index>=Monday_d+datetime.timedelta(days=7)][-1])\n",
    "    \n",
    "    if (r2000_last[0]- sp_last[0]) >= 0:\n",
    "   \n",
    "        if (sp['5. adjusted close'].iloc[sp.index <= Friday_d + 1 * datetime.timedelta(days=7)][0] - sp['5. adjusted close'].iloc[sp.index>=Friday_d + 0 * datetime.timedelta(days=7)][-1]) >= 0:        \n",
    "            l.append(0)\n",
    "            yes_bull += 1\n",
    "            bull += 1\n",
    "        else:\n",
    "            bear += 1\n",
    "            no_bull += 1\n",
    "            l.append(1)\n",
    "    elif (r2000_last[0]- sp_last[0]) < 0:      \n",
    "        if (sp['5. adjusted close'].iloc[sp.index <= Friday_d + 1 * datetime.timedelta(days=7)][0] - sp['5. adjusted close'].iloc[sp.index>=Friday_d + 0 * datetime.timedelta(days=7)][-1]) < 0:\n",
    "            l.append(2)  \n",
    "            yes_bear += 1\n",
    "            bear += 1\n",
    "        else:\n",
    "            l.append(3)\n",
    "            no_bear += 1\n",
    "            bull += 1\n",
    "    else:\n",
    "        wtf += 1\n",
    "        print(Monday_d+datetime.timedelta(days=7))\n",
    "print(yes_bull, yes_bear, no_bull, no_bear,wtf)\n",
    "print(bull, bear)"
   ]
  }
 ],
 "metadata": {
  "kernelspec": {
   "display_name": "Python 3",
   "language": "python",
   "name": "python3"
  },
  "language_info": {
   "codemirror_mode": {
    "name": "ipython",
    "version": 3
   },
   "file_extension": ".py",
   "mimetype": "text/x-python",
   "name": "python",
   "nbconvert_exporter": "python",
   "pygments_lexer": "ipython3",
   "version": "3.8.1"
  }
 },
 "nbformat": 4,
 "nbformat_minor": 4
}
